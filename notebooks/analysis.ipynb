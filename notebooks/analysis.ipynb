{
 "cells": [
  {
   "cell_type": "markdown",
   "id": "e953f16a",
   "metadata": {},
   "source": [
    "# Yol Ayarı\n",
    "Notebook’tan src/ ve scripts/ modüllerini görebilmemiz için yol ekliyoruz. Kod değişince otomatik yeniden yüklensin."
   ]
  },
  {
   "cell_type": "code",
   "execution_count": 11,
   "id": "eb7063bd",
   "metadata": {},
   "outputs": [
    {
     "name": "stdout",
     "output_type": "stream",
     "text": [
      "roots ok: None | None\n"
     ]
    }
   ],
   "source": [
    "# 0) Proje kökünü import yoluna ekle ve autoreload aç\n",
    "import sys\n",
    "from pathlib import Path\n",
    "\n",
    "sys.path.insert(0, str(Path.cwd().parent))  # <-- SADE VE YETER\n",
    "\n",
    "%load_ext autoreload\n",
    "%autoreload 2\n",
    "\n",
    "# Basit doğrulama:\n",
    "import scripts, src\n",
    "print(\"roots ok:\", scripts.__file__, \"|\", src.__file__)\n"
   ]
  },
  {
   "cell_type": "markdown",
   "id": "ea0e8ace",
   "metadata": {},
   "source": [
    "# İndir -> Hazırla -> Eğit\n",
    "Kaggle’dan veriyi indirir, temizleyip train/test ayırır, ölçekleyip scaler’ı kaydeder, modeli eğitir ve metrikleri yazar."
   ]
  },
  {
   "cell_type": "code",
   "execution_count": 12,
   "id": "c6882830",
   "metadata": {},
   "outputs": [
    {
     "name": "stderr",
     "output_type": "stream",
     "text": [
      "c:\\Users\\Burak Alp Arslan\\Desktop\\DataScience\\LR_LungVolume\\.venv_lr312\\Lib\\site-packages\\tqdm\\auto.py:21: TqdmWarning: IProgress not found. Please update jupyter and ipywidgets. See https://ipywidgets.readthedocs.io/en/stable/user_install.html\n",
      "  from .autonotebook import tqdm as notebook_tqdm\n"
     ]
    },
    {
     "name": "stdout",
     "output_type": "stream",
     "text": [
      "[download] 396 satır ve 5 sütun ile veri indirildi -> C:\\Users\\Burak Alp Arslan\\Desktop\\DataScience\\LR_LungVolume\\data\\raw\\data.csv\n",
      "[prepare] Gereksiz sütunlar kaldırıldı: ['Unnamed: 0']\n",
      "[prepare] Eksik veriler kaldırıldı: 0 satır silindi\n",
      "[prepare] Sayısal özellikler 'standard' ile ölçeklendirildi: ['age', 'height']\n",
      "[prepare] Ölçekleyici kaydedildi: C:\\Users\\Burak Alp Arslan\\Desktop\\DataScience\\LR_LungVolume\\models\\scaler.pkl\n",
      "[prepare] Eğitim seti kaydedildi: 316 satır -> C:\\Users\\Burak Alp Arslan\\Desktop\\DataScience\\LR_LungVolume\\data\\processed\\train.csv\n",
      "[prepare] Test seti kaydedildi: 80 satır -> C:\\Users\\Burak Alp Arslan\\Desktop\\DataScience\\LR_LungVolume\\data\\processed\\test.csv\n",
      "\n",
      "[train] Model eğitimi tamamlandı.\n",
      "[train] Model : C:\\Users\\Burak Alp Arslan\\Desktop\\DataScience\\LR_LungVolume\\models\\lr_model.pkl\n",
      "[train] Metrik : C:\\Users\\Burak Alp Arslan\\Desktop\\DataScience\\LR_LungVolume\\reports\\metrics.json -> {'MAE': 0.19644422656628496, 'MSE': 0.055486826625576566, 'R2': 0.9244733467835893}\n",
      "[train] Katsayı özeti (büyükten küçüğe)\n",
      "        coefficient\n",
      "height     0.675417\n",
      "sex        0.515413\n",
      "age        0.075995\n",
      "Metrikler: {'MAE': 0.19644422656628496, 'MSE': 0.055486826625576566, 'R2': 0.9244733467835893}\n"
     ]
    },
    {
     "data": {
      "text/plain": [
       "(        age    height  sex     IC\n",
       " 0  0.166092 -0.268359    1  3.042\n",
       " 1 -0.625139  0.774306    0  2.963\n",
       " 2  1.590306  0.302559    0  2.458,\n",
       "         age    height  sex     IC\n",
       " 0 -1.099877  0.697326    1  3.070\n",
       " 1 -1.416369 -1.175189    1  1.740\n",
       " 2  1.379312 -0.228942    0  2.304)"
      ]
     },
     "execution_count": 12,
     "metadata": {},
     "output_type": "execute_result"
    }
   ],
   "source": [
    "from scripts.pipeline import run_download, run_prepare, run_train, load_processed, load_metrics\n",
    "# sıralı akış\n",
    "run_download()\n",
    "run_prepare()\n",
    "run_train()\n",
    "\n",
    "# çıktıları elde tut\n",
    "train_df, test_df = load_processed()\n",
    "metrics = load_metrics()\n",
    "print(\"Metrikler:\", metrics)\n",
    "train_df.head(3), test_df.head(3)"
   ]
  },
  {
   "cell_type": "markdown",
   "id": "412986ad",
   "metadata": {},
   "source": [
    "# Keşif özeti (EDA): şekil, dtype, eksik raporu\n",
    "Verinin yapısını, sayısal özetini ve eksik değerleri hızlıca görmemizi sağlar."
   ]
  },
  {
   "cell_type": "code",
   "execution_count": 17,
   "id": "6c010252",
   "metadata": {},
   "outputs": [
    {
     "name": "stdout",
     "output_type": "stream",
     "text": [
      "info: {'shape': (316, 4), 'dtypes': {'age': 'float64', 'height': 'float64', 'sex': 'int64', 'IC': 'float64'}}\n"
     ]
    },
    {
     "data": {
      "text/html": [
       "<div>\n",
       "<style scoped>\n",
       "    .dataframe tbody tr th:only-of-type {\n",
       "        vertical-align: middle;\n",
       "    }\n",
       "\n",
       "    .dataframe tbody tr th {\n",
       "        vertical-align: top;\n",
       "    }\n",
       "\n",
       "    .dataframe thead th {\n",
       "        text-align: right;\n",
       "    }\n",
       "</style>\n",
       "<table border=\"1\" class=\"dataframe\">\n",
       "  <thead>\n",
       "    <tr style=\"text-align: right;\">\n",
       "      <th></th>\n",
       "      <th>count</th>\n",
       "      <th>mean</th>\n",
       "      <th>std</th>\n",
       "      <th>min</th>\n",
       "      <th>25%</th>\n",
       "      <th>50%</th>\n",
       "      <th>75%</th>\n",
       "      <th>max</th>\n",
       "    </tr>\n",
       "  </thead>\n",
       "  <tbody>\n",
       "    <tr>\n",
       "      <th>age</th>\n",
       "      <td>316.0</td>\n",
       "      <td>-3.372829e-17</td>\n",
       "      <td>1.001586</td>\n",
       "      <td>-1.732861</td>\n",
       "      <td>-0.849321</td>\n",
       "      <td>0.034220</td>\n",
       "      <td>0.865012</td>\n",
       "      <td>1.695804</td>\n",
       "    </tr>\n",
       "    <tr>\n",
       "      <th>height</th>\n",
       "      <td>316.0</td>\n",
       "      <td>-5.312206e-16</td>\n",
       "      <td>1.001586</td>\n",
       "      <td>-3.202620</td>\n",
       "      <td>-0.361160</td>\n",
       "      <td>-0.014392</td>\n",
       "      <td>0.631547</td>\n",
       "      <td>1.756201</td>\n",
       "    </tr>\n",
       "    <tr>\n",
       "      <th>sex</th>\n",
       "      <td>316.0</td>\n",
       "      <td>5.031646e-01</td>\n",
       "      <td>0.500783</td>\n",
       "      <td>0.000000</td>\n",
       "      <td>0.000000</td>\n",
       "      <td>1.000000</td>\n",
       "      <td>1.000000</td>\n",
       "      <td>1.000000</td>\n",
       "    </tr>\n",
       "    <tr>\n",
       "      <th>IC</th>\n",
       "      <td>316.0</td>\n",
       "      <td>2.772750e+00</td>\n",
       "      <td>0.840574</td>\n",
       "      <td>0.780000</td>\n",
       "      <td>2.259000</td>\n",
       "      <td>2.798500</td>\n",
       "      <td>3.210000</td>\n",
       "      <td>4.528000</td>\n",
       "    </tr>\n",
       "  </tbody>\n",
       "</table>\n",
       "</div>"
      ],
      "text/plain": [
       "        count          mean       std       min       25%       50%       75%  \\\n",
       "age     316.0 -3.372829e-17  1.001586 -1.732861 -0.849321  0.034220  0.865012   \n",
       "height  316.0 -5.312206e-16  1.001586 -3.202620 -0.361160 -0.014392  0.631547   \n",
       "sex     316.0  5.031646e-01  0.500783  0.000000  0.000000  1.000000  1.000000   \n",
       "IC      316.0  2.772750e+00  0.840574  0.780000  2.259000  2.798500  3.210000   \n",
       "\n",
       "             max  \n",
       "age     1.695804  \n",
       "height  1.756201  \n",
       "sex     1.000000  \n",
       "IC      4.528000  "
      ]
     },
     "metadata": {},
     "output_type": "display_data"
    },
    {
     "data": {
      "text/plain": [
       "'Eksik değer yok'"
      ]
     },
     "metadata": {},
     "output_type": "display_data"
    }
   ],
   "source": [
    "from scripts.explore import info_summary, missing_report, describe_numeric\n",
    "from scripts.visualize import plot_histograms, plot_corr_heatmap\n",
    "\n",
    "info = info_summary(train_df)\n",
    "desc = describe_numeric(train_df)\n",
    "miss = missing_report(train_df)\n",
    "\n",
    "print(\"info:\", info)\n",
    "display(desc)\n",
    "display(miss if not miss.empty else \"Eksik değer yok\")\n"
   ]
  },
  {
   "cell_type": "markdown",
   "id": "2b0bd599",
   "metadata": {},
   "source": [
    "# Histogramlar (age, height)\n",
    "Numerik kolonların dağılımlarını görselleştiriyoruz."
   ]
  },
  {
   "cell_type": "code",
   "execution_count": 18,
   "id": "1b150661",
   "metadata": {},
   "outputs": [
    {
     "data": {
      "image/png": "[encoded data removed]",
      "text/plain": [
       "<Figure size 640x480 with 1 Axes>"
      ]
     },
     "metadata": {},
     "output_type": "display_data"
    },
    {
     "data": {
      "image/png": "[encoded data removed]",
      "text/plain": [
       "<Figure size 640x480 with 1 Axes>"
      ]
     },
     "metadata": {},
     "output_type": "display_data"
    }
   ],
   "source": [
    "from scripts.visualize import plot_histograms, plot_corr_heatmap, plot_actual_vs_pred\n",
    "plot_histograms(train_df, cols=[\"age\", \"height\"], bins=25)\n"
   ]
  },
  {
   "cell_type": "markdown",
   "id": "22820e36",
   "metadata": {},
   "source": [
    "# Korelasyon ısı haritası\n",
    "Sayısal kolonlar arasındaki ilişkilere hızlı bakış."
   ]
  },
  {
   "cell_type": "code",
   "execution_count": 19,
   "id": "84b8f9ae",
   "metadata": {},
   "outputs": [
    {
     "data": {
      "image/png": "[encoded data removed]",
      "text/plain": [
       "<Figure size 640x480 with 2 Axes>"
      ]
     },
     "metadata": {},
     "output_type": "display_data"
    }
   ],
   "source": [
    "plot_corr_heatmap(train_df, cols=[\"age\", \"height\", \"sex\"])"
   ]
  },
  {
   "cell_type": "markdown",
   "id": "e67d672a",
   "metadata": {},
   "source": [
    "# Gerçek vs Tahmin (test seti)\n",
    "Modelin test verisindeki performansını görsel olarak kontrol et (mükemmel uyum çizgisiyle)."
   ]
  },
  {
   "cell_type": "code",
   "execution_count": 21,
   "id": "4691d445",
   "metadata": {},
   "outputs": [
    {
     "data": {
      "image/png": "[encoded data removed]",
      "text/plain": [
       "<Figure size 640x480 with 1 Axes>"
      ]
     },
     "metadata": {},
     "output_type": "display_data"
    }
   ],
   "source": [
    "import pandas as pd\n",
    "from src import config as cfg\n",
    "from joblib import load\n",
    "\n",
    "model = load(cfg.MODEL_PATH)\n",
    "X_cols = cfg.FEATURES_NUM + cfg.FEATURES_CAT\n",
    "test_df = pd.read_csv(cfg.TEST_DATA)\n",
    "\n",
    "y_true = test_df[cfg.TARGET].to_numpy()\n",
    "y_pred = model.predict(test_df[X_cols])\n",
    "\n",
    "plot_actual_vs_pred(y_true, y_pred, title=\"Gerçek vs Tahmin (Test)\")\n"
   ]
  },
  {
   "cell_type": "markdown",
   "id": "b64518af",
   "metadata": {},
   "source": [
    "# Katsayı tablosu (yorum için)\n",
    "Linear Regression katsayılarını büyüklüğe göre sırala; hangi özellik daha etkili görünüyor?"
   ]
  },
  {
   "cell_type": "code",
   "execution_count": 22,
   "id": "9f541333",
   "metadata": {},
   "outputs": [
    {
     "data": {
      "text/html": [
       "<div>\n",
       "<style scoped>\n",
       "    .dataframe tbody tr th:only-of-type {\n",
       "        vertical-align: middle;\n",
       "    }\n",
       "\n",
       "    .dataframe tbody tr th {\n",
       "        vertical-align: top;\n",
       "    }\n",
       "\n",
       "    .dataframe thead th {\n",
       "        text-align: right;\n",
       "    }\n",
       "</style>\n",
       "<table border=\"1\" class=\"dataframe\">\n",
       "  <thead>\n",
       "    <tr style=\"text-align: right;\">\n",
       "      <th></th>\n",
       "      <th>coef</th>\n",
       "    </tr>\n",
       "  </thead>\n",
       "  <tbody>\n",
       "    <tr>\n",
       "      <th>height</th>\n",
       "      <td>0.675417</td>\n",
       "    </tr>\n",
       "    <tr>\n",
       "      <th>sex</th>\n",
       "      <td>0.515413</td>\n",
       "    </tr>\n",
       "    <tr>\n",
       "      <th>age</th>\n",
       "      <td>0.075995</td>\n",
       "    </tr>\n",
       "  </tbody>\n",
       "</table>\n",
       "</div>"
      ],
      "text/plain": [
       "            coef\n",
       "height  0.675417\n",
       "sex     0.515413\n",
       "age     0.075995"
      ]
     },
     "metadata": {},
     "output_type": "display_data"
    },
    {
     "name": "stdout",
     "output_type": "stream",
     "text": [
      "intercept: 2.5134126465396784\n"
     ]
    }
   ],
   "source": [
    "import pandas as pd\n",
    "from joblib import load\n",
    "\n",
    "model = load(cfg.MODEL_PATH)\n",
    "X_cols = cfg.FEATURES_NUM + cfg.FEATURES_CAT\n",
    "\n",
    "coef_df = pd.Series(model.coef_, index=X_cols, name=\"coef\").to_frame().sort_values(\"coef\", ascending=False)\n",
    "display(coef_df)\n",
    "print(\"intercept:\", float(model.intercept_))\n"
   ]
  },
  {
   "cell_type": "markdown",
   "id": "3f9502c7",
   "metadata": {},
   "source": [
    "# Hızlı tekil tahmin (quick_predict)\n",
    "Tek satır girdiyle (M/F veya 1/0) hızlı tahmin al."
   ]
  },
  {
   "cell_type": "code",
   "execution_count": 26,
   "id": "fca1b0d8",
   "metadata": {},
   "outputs": [
    {
     "name": "stdout",
     "output_type": "stream",
     "text": [
      "24 yaşında 178 boyunda bir erkeğin akciğer kapasitesi yaklaşık\n",
      " 3.5533637316811575 Litredir.\n"
     ]
    }
   ],
   "source": [
    "from scripts.predict_tools import quick_predict, batch_predict, load_model_and_scaler\n",
    "quick_predict(age=24, height=178, sex=\"M\")\n",
    "print(\"24 yaşında 178 boyunda bir erkeğin akciğer kapasitesi yaklaşık\\n\",\n",
    "      quick_predict(age=24, height=178, sex=\"M\"),\"Litredir.\")"
   ]
  },
  {
   "cell_type": "markdown",
   "id": "ad3e9b6a",
   "metadata": {},
   "source": [
    "# Toplu tahmin (batch_predict)\n",
    "Birden fazla kaydı tek seferde tahmin et; sonuç serisini gör."
   ]
  },
  {
   "cell_type": "code",
   "execution_count": 32,
   "id": "27a1d60e",
   "metadata": {},
   "outputs": [
    {
     "data": {
      "text/plain": [
       "0    2.738812\n",
       "1    3.323815\n",
       "2    3.104342\n",
       "Name: prediction, dtype: float64"
      ]
     },
     "execution_count": 32,
     "metadata": {},
     "output_type": "execute_result"
    }
   ],
   "source": [
    "batch_predict([\n",
    "    {\"age\": 30, \"height\": 170, \"sex\": \"F\"},\n",
    "    {\"age\": 55, \"height\": 182, \"sex\": \"F\"},\n",
    "    {\"age\": 43, \"height\": 165, \"sex\": \"M\"},\n",
    "])\n"
   ]
  }
 ],
 "metadata": {
  "kernelspec": {
   "display_name": "Python 3.12 (venv)",
   "language": "python",
   "name": "lr312"
  },
  "language_info": {
   "codemirror_mode": {
    "name": "ipython",
    "version": 3
   },
   "file_extension": ".py",
   "mimetype": "text/x-python",
   "name": "python",
   "nbconvert_exporter": "python",
   "pygments_lexer": "ipython3",
   "version": "3.12.10"
  }
 },
 "nbformat": 4,
 "nbformat_minor": 5
}
